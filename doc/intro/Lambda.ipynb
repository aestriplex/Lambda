{
 "cells": [
  {
   "cell_type": "markdown",
   "metadata": {},
   "source": [
    "# ${\\huge \\Lambda}$\n",
    "*Nothing but Master*"
   ]
  },
  {
   "cell_type": "markdown",
   "metadata": {},
   "source": [
    "## Introduzione\n",
    "### SSA\n",
    "SSA (*Static Single Assignment*) è una forma di rappresentazione del codice in cui ogni variabile viene assegnata **una** sola volta. Quindi, consideriamo il codice\n",
    "```\n",
    "_Bool x;\n",
    "int y;\n",
    "\n",
    "y = 8;\n",
    "if(x)\n",
    "    y--;\n",
    "else\n",
    "    y++;\n",
    "\n",
    "assert(y == 7 || y == 9);\n",
    "```"
   ]
  },
  {
   "cell_type": "markdown",
   "metadata": {},
   "source": [
    "tale codice diventa\n",
    "```\n",
    "_Bool x;\n",
    "int y0;\n",
    "int y1;\n",
    "int y2;\n",
    "int y3;\n",
    "\n",
    "\n",
    "y0 = 8;\n",
    "if(x)\n",
    "    y1 = y0 - 1;\n",
    "else\n",
    "    y2 = y0 + 1;\n",
    "    \n",
    "y3 = x ? y1 : y2;\n",
    "assert(y3 == 7 || y3 == 9);\n",
    "```"
   ]
  },
  {
   "cell_type": "markdown",
   "metadata": {},
   "source": [
    "Questa metodologia, popolare tra i compilatori, di fatto tratta le variabili come se fossero delle costanti. Lo scopo è quello di tradurre un programma imperativo in un'equazione. Di fatto, otterremmo qualcosa di concettualmente molto simile anche se provassimo a tradurre lo stesso codice in un programma funzionale. a questo punto possiamo scrivere il nostro programma come l'equazione che segue\n",
    "\n",
    "\\begin{equation}\n",
    "y_0=8 \\wedge (y_1=y_0-1) \\wedge (y_2=y_0+1) \\wedge (y_0=\\mathrm{true}\\rightarrow y_3=y_1) \\wedge (y_0=\\mathrm{false}\\rightarrow y_3=y_2) \\wedge \\\\ \\wedge (y_3=7 \\vee y_3=9)\n",
    "\\end{equation}\n",
    "\n",
    "che, se vogliamo che il programma rispetti la specifica che abbiamo dato (in questo caso con l'assert), deve risultare **valida** (cioè tautologica - vera in tutti i casi)."
   ]
  },
  {
   "cell_type": "markdown",
   "metadata": {},
   "source": [
    "Il file in SMT-LIB2 con questo esempio si trova in `Lambda/doc/examples/sample1.smt2`.\n",
    "Qui si da una dimostrazione dello stesso codice scritto però in Python (utilizzando i binding di Z3)"
   ]
  },
  {
   "cell_type": "code",
   "execution_count": 12,
   "metadata": {},
   "outputs": [
    {
     "data": {
      "text/html": [
       "<b>unsat</b>"
      ],
      "text/plain": [
       "unsat"
      ]
     },
     "execution_count": 12,
     "metadata": {},
     "output_type": "execute_result"
    }
   ],
   "source": [
    "from z3 import *\n",
    "\n",
    "s = Solver()\n",
    "\n",
    "y1, y2, y3, y4 = Ints(\"y1 y2 y3 y4\")\n",
    "x0 = Bool(\"x0\")\n",
    "\n",
    "# Precondizione (inizializzazione)\n",
    "s.add(y1 == 8)\n",
    "\n",
    "# Corpo del programma\n",
    "s.add(y2 == y1 -1, y3 == y1 + 1, Implies(x0 == True,y4 == y2), Implies(x0 == False, y4 == y3))\n",
    "\n",
    "# Postcondizione (negata)\n",
    "s.add(Not(Or(y4 == 7, y4 == 9)))\n",
    "\n",
    "# Check di soddisfacibilità (deve risultare unsat)\n",
    "s.check()"
   ]
  },
  {
   "cell_type": "markdown",
   "metadata": {},
   "source": [
    "## Esempio\n",
    "Consideriamo un esempio un po' più complesso:\n",
    "```\n",
    "#define DIM 5\n",
    "\n",
    "int x;\n",
    "int A[DIM];\n",
    "int i = 0;\n",
    "int found = 0; \n",
    "\n",
    "while(i < DIM) {\n",
    "    if(x == A[i]) \n",
    "        found = 1;\n",
    "    i++; \n",
    "}\n",
    "```\n",
    "dove la costante `DIM` rappresenta un numero arbitrario. Vogliamo verificare la seguente specifica:\n",
    "\n",
    "\\begin{equation}\n",
    "\\mathrm{found}=1\\longleftrightarrow x\\in A\n",
    "\\end{equation}"
   ]
  },
  {
   "cell_type": "markdown",
   "metadata": {},
   "source": [
    "Sulla base di quanto detto nell'Introduzione, iniziamo a creare la formula di inizializzazione:\n",
    "\n",
    "\\begin{equation}\n",
    "i_0=0 \\wedge f_0=0\n",
    "\\end{equation}\n",
    "\n",
    "per il corpo del ciclo (formula che andrà poi ripetuta `DIM` volte):\n",
    "\n",
    "\\begin{equation}\n",
    "f_1 = 1 \\wedge f_2=f_0 \\wedge (x=A(i_0) \\rightarrow f_3=f_1) \\wedge (x\\neq A(i_0) \\rightarrow f_3=f_2) \\wedge (i_1 = i_0+1)\n",
    "\\end{equation}"
   ]
  },
  {
   "cell_type": "markdown",
   "metadata": {},
   "source": [
    "Mentre la postcondizione diventa:\n",
    "\n",
    "\\begin{equation}\n",
    "f_n=1 \\leftrightarrow x = A(i_{n-1})\n",
    "\\end{equation}\n",
    "\n",
    "dove $n = \\mathrm{DIM}$"
   ]
  },
  {
   "cell_type": "markdown",
   "metadata": {},
   "source": [
    "Anche in questo caso il file in SMT-LIB2 con questo esempio si trova in `Lambda/doc/examples/sample2.smt2`.\n",
    "Qui si da una dimostrazione dello stesso codice scritto però in Python (utilizzando i binding di Z3)"
   ]
  },
  {
   "cell_type": "code",
   "execution_count": 14,
   "metadata": {},
   "outputs": [
    {
     "name": "stdout",
     "output_type": "stream",
     "text": [
      "numero di iterazioni: 3\n",
      "[f0, f1, f2, f3, f4, f5, f6, f7, f8, f9]\n",
      "[i0, i1, i2, i3]\n",
      "[f3, f4, f5, f6, f7, f8, f9]\n",
      "[i1, i2, i3]\n",
      "[f6, f7, f8, f9]\n",
      "[i2, i3]\n",
      "[f9]\n",
      "[i3]\n"
     ]
    }
   ],
   "source": [
    "from z3 import *\n",
    "\n",
    "def n_found(d) : return (d * 3) + 1\n",
    "\n",
    "def n_i(d) : return d + 1\n",
    "\n",
    "def body(f_0, f_1, f_2, f_3, i_0, i_1, _A, _x) :\n",
    "    return And(f_1 == 1, f_2 == f_0, \\\n",
    "               Implies(_x == Select(_A,i_0), f_3 == f_1), \\\n",
    "               Implies(Not(_x == Select(_A,i_0)),f_3 == f_2), \\\n",
    "               i_1 == (i_0 + 1))\n",
    "\n",
    "s = Solver()\n",
    "\n",
    "DIM = int(input(\"numero di iterazioni: \"))\n",
    "A = Array(\"A\",IntSort(),IntSort())\n",
    "x = Int(\"x\")\n",
    "i = [Int(f\"i{x}\") for x in range(n_i(DIM))]\n",
    "f = [Int(f\"f{x}\") for x in range(n_found(DIM))]\n",
    "\n",
    "init = [And(i0 == 0, f0 == 0)]\n",
    "\n",
    "tran = []\n",
    "\n",
    "post = \n",
    "\n",
    "for x in range(DIM) :\n",
    "    if x < (DIM * 3) / 2 :\n",
    "        tran.append(body(f[0],f[1],f[2],f[3],i[0],i[1],A,x))\n",
    "        for d in range(3) :\n",
    "            del f[0]\n",
    "        del i[0]"
   ]
  },
  {
   "cell_type": "code",
   "execution_count": null,
   "metadata": {},
   "outputs": [],
   "source": []
  }
 ],
 "metadata": {
  "kernelspec": {
   "display_name": "Python 3",
   "language": "python",
   "name": "python3"
  },
  "language_info": {
   "codemirror_mode": {
    "name": "ipython",
    "version": 3
   },
   "file_extension": ".py",
   "mimetype": "text/x-python",
   "name": "python",
   "nbconvert_exporter": "python",
   "pygments_lexer": "ipython3",
   "version": "3.7.3"
  }
 },
 "nbformat": 4,
 "nbformat_minor": 4
}
