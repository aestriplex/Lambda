{
 "cells": [
  {
   "cell_type": "markdown",
   "metadata": {},
   "source": [
    "# ${\\huge \\Lambda}$\n",
    "*Nothing but Master*"
   ]
  },
  {
   "cell_type": "markdown",
   "metadata": {},
   "source": [
    "## Introduction\n",
    "### SSA\n",
    "SSA (*Static Single Assignment*) is a way to structuring code in which each variable has **exactly one definition**. Therefore, if we need $n$ assignments (of the same variable), we have to create $n$ different variables. Let's consider the following code\n",
    "```\n",
    "_Bool x;\n",
    "int y;\n",
    "\n",
    "y = 8;\n",
    "if(x)\n",
    "    y--;\n",
    "else\n",
    "    y++;\n",
    "\n",
    "assert(y == 7 || y == 9);\n",
    "```"
   ]
  },
  {
   "cell_type": "markdown",
   "metadata": {},
   "source": [
    "such code become\n",
    "```\n",
    "_Bool x;\n",
    "int y0;\n",
    "int y1;\n",
    "int y2;\n",
    "int y3;\n",
    "\n",
    "y0 = 8;\n",
    "if(x)\n",
    "    y1 = y0 - 1;\n",
    "else\n",
    "    y2 = y0 + 1;\n",
    "    \n",
    "y3 = x ? y1 : y2;\n",
    "assert(y3 == 7 || y3 == 9);\n",
    "```"
   ]
  },
  {
   "cell_type": "markdown",
   "metadata": {},
   "source": [
    "SSA form is pretty popular in compiler's representation of the code (the so-called *intermediate language*). In fact, SSA treats variables as constants. The purpouse is to translate imperative programs into equations (we are going to obtain something similar if we would try to make an imperative program functional). Structuring our code in SSA, we obtain something like\n",
    "\n",
    "\\begin{equation}\n",
    "y_0=8 \\wedge (y_1=y_0-1) \\wedge (y_2=y_0+1) \\wedge (y_0=\\mathrm{true}\\rightarrow y_3=y_1) \\wedge (y_0=\\mathrm{false}\\rightarrow y_3=y_2) \\wedge \\\\ \\wedge~(y_3=7 \\vee y_3=9)\n",
    "\\end{equation}\n",
    "\n",
    "Now, what are we looking for? We need to know if every path (i.e. every possible execution of our code) satisfies the condition of the assert method. In other words, we need to prove that such equation is **valid**, that means that is a tautology (if you are not familiar with the concepts of logic 101, you can jump to the **appendix**). \n",
    "\n",
    "Therefore, in order to obtain a validity check, we have to negate the post condition and look for an `unsat` outcome."
   ]
  },
  {
   "cell_type": "markdown",
   "metadata": {},
   "source": [
    "You can find the SMT-LIB2 file of the following example at `Lambda/doc/examples/SMT/sample1.smt2`."
   ]
  },
  {
   "cell_type": "code",
   "execution_count": 8,
   "metadata": {},
   "outputs": [
    {
     "name": "stdout",
     "output_type": "stream",
     "text": [
      "valid\n"
     ]
    }
   ],
   "source": [
    "from z3 import *\n",
    "\n",
    "s = Solver()\n",
    "\n",
    "y1, y2, y3, y4 = Ints(\"y1 y2 y3 y4\")\n",
    "x0 = Bool(\"x0\")\n",
    "\n",
    "# Init condition that contains the variables initialization\n",
    "s.add(y1 == 8)\n",
    "\n",
    "# Transaction (the body of the program)\n",
    "s.add(y2 == y1 -1, y3 == y1 + 1, \\\n",
    "      Implies(x0 == True,y4 == y2), \\\n",
    "      Implies(x0 == False, y4 == y3))\n",
    "\n",
    "# Post-condition (negated)\n",
    "s.add(Not(Or(y4 == 7, y4 == 9)))\n",
    "\n",
    "# Check the validity of the resultant formula\n",
    "# init (and) tran (and) (post)\n",
    "if unsat == s.check() :\n",
    "    print(\"valid\")\n",
    "else :\n",
    "    print(s.model())"
   ]
  },
  {
   "cell_type": "markdown",
   "metadata": {},
   "source": [
    "## Example\n",
    "Let's consider a little more tricky example:\n",
    "```\n",
    "#define DIM 5\n",
    "\n",
    "int x;\n",
    "int A[DIM];\n",
    "int i = 0;\n",
    "int found = 0; \n",
    "\n",
    "while(i < DIM) {\n",
    "    if(x == A[i]) \n",
    "        found = 1;\n",
    "    i++; \n",
    "}\n",
    "```\n",
    "where `DIM` is an arbitrary number. We want to check the following:\n",
    "\n",
    "\\begin{equation}\n",
    "\\mathrm{found}=1\\longleftrightarrow x\\in A\n",
    "\\end{equation}"
   ]
  },
  {
   "cell_type": "markdown",
   "metadata": {},
   "source": [
    "As we have said before, we have to set the init equation first:\n",
    "\n",
    "\\begin{equation}\n",
    "i_0=0 \\wedge f_0=0\n",
    "\\end{equation}\n",
    " \n",
    "for the body of the loop (this formula has to be repeated `DIM` times):\n",
    "\n",
    "\\begin{equation}\n",
    "f_1 = 1 \\wedge f_2=f_0 \\wedge (x=A(i_0) \\rightarrow f_3=f_1) \\wedge (x\\neq A(i_0) \\rightarrow f_3=f_2) \\wedge (i_1 = i_0+1)\n",
    "\\end{equation}"
   ]
  },
  {
   "cell_type": "markdown",
   "metadata": {},
   "source": [
    "**What happens to the loop?**\n",
    "\n",
    "It simply disappears. Indeeed we need a loop-free code in order to apply bounded model checking procedures. Therefore we have to **unroll** the loop. How?\n",
    "\n",
    "Consider the following\n",
    "```\n",
    "int a;\n",
    "int x = 0;\n",
    "while(x < 2) {\n",
    "    a += x;\n",
    "    x++;\n",
    "}\n",
    "```\n",
    "we can translate such code in a loop-free code in the following way:\n",
    "```\n",
    "int a;\n",
    "int x = 0;\n",
    "if(x < 2) {\n",
    "    a += x;\n",
    "    x++;\n",
    "    if(x < 2) {\n",
    "        a += x;\n",
    "        x++;\n",
    "    }\n",
    "}\n",
    "```\n",
    "And in SSA:\n",
    "```\n",
    "int a0, a1, a2;\n",
    "int x0 = 0, x1, x2;\n",
    "if(x0 < 2) {\n",
    "    a1 = a0 + x0;\n",
    "    x1 = x0 + 1;\n",
    "    if(x1 < 2) {\n",
    "        a2 = a1 + x1;\n",
    "        x2 = x1 + 1;\n",
    "    }\n",
    "}\n",
    "```"
   ]
  },
  {
   "cell_type": "markdown",
   "metadata": {},
   "source": [
    "Back to our example. Now the post-condition changes depending on `DIM`. If `DIM` = 1, we have:\n",
    "\n",
    "\\begin{equation}\n",
    "f_3=1 \\leftrightarrow x = A(i_0)\n",
    "\\end{equation}\n",
    "\n",
    "If `DIM` = 2, we have:\n",
    "\n",
    "\\begin{equation}\n",
    "(f_3=1 \\vee f_6=1) \\leftrightarrow (x = A(i_0) \\vee x = A(i_1))\n",
    "\\end{equation}\n",
    "\n",
    "And so on."
   ]
  },
  {
   "cell_type": "markdown",
   "metadata": {},
   "source": [
    "You can find the SMT-LIB2 file of the following example at `Lambda/doc/examples/SMT/sample2.smt2` and at `Lambda/doc/examples/SMT/sample2v2.smt2`."
   ]
  },
  {
   "cell_type": "code",
   "execution_count": 9,
   "metadata": {},
   "outputs": [
    {
     "name": "stdout",
     "output_type": "stream",
     "text": [
      "number of iterations: 3\n",
      "valid\n"
     ]
    }
   ],
   "source": [
    "from z3 import *\n",
    "\n",
    "def n_found(d) : return (d * 3) + 1\n",
    "\n",
    "def n_i(d) : return d + 1\n",
    "\n",
    "def body(f_0, f_1, f_2, f_3, i_0, i_1, _A, _x) :\n",
    "    return And(f_1 == 1, f_2 == f_0, \\\n",
    "               f_3 == If(_x == Select(_A,i_0), f_1, f_2), \\\n",
    "               i_1 == (i_0 + 1))\n",
    "\n",
    "def mk_post(_f, _A, _x, _i) :\n",
    "    return (_f == 1) == (_x == Select(_A,_i))\n",
    "\n",
    "s = Solver()\n",
    "\n",
    "DIM = int(input(\"number of iterations: \"))\n",
    "A = Array(\"A\",IntSort(),IntSort())\n",
    "x = Int(\"x\")\n",
    "i = [Int(f\"i{x}\") for x in range(n_i(DIM))]\n",
    "f = [Int(f\"f{x}\") for x in range(n_found(DIM))]\n",
    "\n",
    "init = [And(i[0] == 0, f[0] == 0)]\n",
    "\n",
    "post_vars = [f[x] for x in range(len(f)) if (x > 0) and (x % 3 == 0)]\n",
    "\n",
    "tran = []\n",
    "post = []\n",
    "for x in range(DIM) :\n",
    "    if x < (DIM * 3) / 2 :\n",
    "        tran.append(body(f[0],f[1],f[2],f[3],i[0],i[1],A,x))\n",
    "        post.append(mk_post(post_vars[0],A,x,i[0]))\n",
    "        for d in range(3) :\n",
    "            del f[0]\n",
    "        del i[0]\n",
    "        del post_vars[0]\n",
    "\n",
    "post = [Not(Or(*post))]\n",
    "\n",
    "s.add(init + tran + post)\n",
    "\n",
    "if unsat == s.check() :\n",
    "    print(\"valid\")\n",
    "else :\n",
    "    print(s.model())"
   ]
  },
  {
   "cell_type": "markdown",
   "metadata": {},
   "source": [
    "### Plot\n",
    "New generation SMT solvers can easily solve formulae with hundreds of thousands variables as we can see in the picture below"
   ]
  },
  {
   "attachments": {
    "plot.png": {
     "image/png": "[encoded data removed]"
    }
   },
   "cell_type": "markdown",
   "metadata": {},
   "source": [
    "![plot.png](attachment:plot.png)\n",
    "\n",
    "Keep in mind that the equation of the code with 51.000 iterations contains about 253.000 variables (153.001 f_* variables and 102.001 i_* variables)"
   ]
  },
  {
   "cell_type": "markdown",
   "metadata": {},
   "source": [
    "## Appendix - Boolean satisfiability\n",
    "In order to check the validity of our equation (composed, as we have seen, by init $\\wedge$ tran $\\wedge$ post) we look for `unsat` outcome. Why? \n",
    "\n",
    "Since the function `check()` has two possible outcomes (either sat or unsat), we cannot check validity **directly**. Let's take a look to the following tables:\n",
    "\n",
    "$\\mathrm{A}$ | $\\mathrm{B}$ | $\\mathrm{A}$ $\\rightarrow$ ($\\mathrm{B}$ $\\rightarrow$ $\\mathrm{A}$) | $\\sim$ ($\\mathrm{A}$ $\\rightarrow$ ($\\mathrm{B}$ $\\rightarrow$ $\\mathrm{A}$))\n",
    ":---: |:---: | :---: | :---:\n",
    "0 | 0 | 1 | 0\n",
    "0 | 1 | 1 | 0\n",
    "1 | 0 | 1 | 0\n",
    "1 | 1 | 1 | 0\n",
    "\n",
    "$\\mathrm{A}$ | $\\mathrm{B}$ | $\\mathrm{A}$ $\\rightarrow$ ($\\mathrm{A}$ $\\rightarrow$ $\\mathrm{B}$) | $\\sim$ ($\\mathrm{A}$ $\\rightarrow$ ($\\mathrm{A}$ $\\rightarrow$ $\\mathrm{B}$))\n",
    ":---: |:---: | :---: | :---:\n",
    "0 | 0 | 1 | 0\n",
    "0 | 1 | 1 | 0\n",
    "1 | 0 | 0 | 1\n",
    "1 | 1 | 1 | 0\n",
    "\n",
    "Both $\\mathrm{A}\\rightarrow(\\mathrm{B}\\rightarrow\\mathrm{A})$ and $\\mathrm{A}\\rightarrow(\\mathrm{A}\\rightarrow \\mathrm{B})$ are satisfiable. Nevertheless the first one is more than simply satisfiable: it's a tautology. As we can see in the first table, the negation of a tautology is (of course) a contradiction. Thus, even if `valid` is not a possible outcome of Z3, we can check whether a formula is valid or not by proving that its negation is a contradiction.\n",
    "\n",
    "Formula | Z3 outcome\n",
    ":--- | :---\n",
    "$\\mathrm{A}$ $\\rightarrow$ ($\\mathrm{B}$ $\\rightarrow$ $\\mathrm{A}$) | sat\n",
    "$\\sim$ ($\\mathrm{A}$ $\\rightarrow$ ($\\mathrm{B}$ $\\rightarrow$ $\\mathrm{A}$)) | unsat\n",
    "$\\mathrm{A}$ $\\rightarrow$ ($\\mathrm{A}$ $\\rightarrow$ $\\mathrm{B}$) | sat\n",
    "$\\sim$ ($\\mathrm{A}$ $\\rightarrow$ ($\\mathrm{A}$ $\\rightarrow$ $\\mathrm{B}$)) | sat\n",
    "\n",
    "Lastly, notice that when we call `model()`, it returns a model of the negated formula, i.e. a counterexample of the formula that we need. What is a **model**? A model is  a tuple of variable assignments such that they make the formula true. For example ($\\mathrm{A}=0,\\mathrm{B}=0$) is a model of $\\mathrm{A}\\rightarrow(\\mathrm{A}\\rightarrow \\mathrm{B})$."
   ]
  },
  {
   "cell_type": "code",
   "execution_count": null,
   "metadata": {},
   "outputs": [],
   "source": []
  }
 ],
 "metadata": {
  "kernelspec": {
   "display_name": "Python 3",
   "language": "python",
   "name": "python3"
  },
  "language_info": {
   "codemirror_mode": {
    "name": "ipython",
    "version": 3
   },
   "file_extension": ".py",
   "mimetype": "text/x-python",
   "name": "python",
   "nbconvert_exporter": "python",
   "pygments_lexer": "ipython3",
   "version": "3.7.3"
  }
 },
 "nbformat": 4,
 "nbformat_minor": 4
}
